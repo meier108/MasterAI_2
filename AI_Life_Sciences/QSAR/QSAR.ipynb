{
 "cells": [
  {
   "cell_type": "markdown",
   "metadata": {},
   "source": [
    "## QSAR Challenge"
   ]
  },
  {
   "cell_type": "code",
   "execution_count": 9,
   "metadata": {},
   "outputs": [],
   "source": [
    "## Imports\n",
    "import pandas as pd\n",
    "import numpy as np\n",
    "import seaborn as sns\n",
    "import matplotlib.pyplot as plt\n",
    "from tqdm.auto import tqdm\n",
    "\n",
    "from sklearn.model_selection import train_test_split\n",
    "from sklearn.ensemble import RandomForestClassifier\n",
    "\n",
    "\n",
    "import rdkit\n",
    "from rdkit import Chem, DataStructs\n",
    "from rdkit.Chem import rdFingerprintGenerator\n"
   ]
  },
  {
   "cell_type": "code",
   "execution_count": 12,
   "metadata": {},
   "outputs": [
    {
     "data": {
      "application/vnd.jupyter.widget-view+json": {
       "model_id": "89ecb20450e748338f6106291cf2b99c",
       "version_major": 2,
       "version_minor": 0
      },
      "text/plain": [
       "Convert Smiles to Mol:   0%|          | 0/12000 [00:00<?, ?it/s]"
      ]
     },
     "metadata": {},
     "output_type": "display_data"
    },
    {
     "name": "stderr",
     "output_type": "stream",
     "text": [
      "[21:50:29] WARNING: not removing hydrogen atom without neighbors\n",
      "[21:50:29] WARNING: not removing hydrogen atom without neighbors\n",
      "[21:50:30] WARNING: not removing hydrogen atom without neighbors\n",
      "[21:50:30] WARNING: not removing hydrogen atom without neighbors\n"
     ]
    },
    {
     "data": {
      "application/vnd.jupyter.widget-view+json": {
       "model_id": "a183c110486a47c38b8d742ed4e12795",
       "version_major": 2,
       "version_minor": 0
      },
      "text/plain": [
       "Gen Morgen Fingerprints:   0%|          | 0/12000 [00:00<?, ?it/s]"
      ]
     },
     "metadata": {},
     "output_type": "display_data"
    },
    {
     "data": {
      "text/plain": [
       "array([[0, 1, 0, ..., 0, 0, 0],\n",
       "       [0, 0, 0, ..., 0, 0, 0],\n",
       "       [0, 0, 0, ..., 0, 0, 0],\n",
       "       ...,\n",
       "       [0, 1, 0, ..., 0, 0, 0],\n",
       "       [0, 0, 0, ..., 0, 0, 0],\n",
       "       [0, 0, 0, ..., 0, 0, 1]], dtype=uint8)"
      ]
     },
     "execution_count": 12,
     "metadata": {},
     "output_type": "execute_result"
    }
   ],
   "source": [
    "## Load Dataset\n",
    "data = pd.read_csv('resources/data_train.csv', index_col=0).reset_index(drop=True)\n",
    "data.head()\n",
    "\n",
    "## Data Preprocessing \n",
    "data['mol'] = [Chem.MolFromSmiles(smi) for smi in tqdm(data['smiles'], desc='Convert Smiles to Mol')]\n",
    "\n",
    "\n",
    "#Convert the molecules to Morgan fingerprints\n",
    "mfpgen = Chem.rdFingerprintGenerator.GetMorganGenerator(radius=2, fpSize=1024)\n",
    "fps = np.array([mfpgen.GetFingerprintAsNumPy(mol) for mol in tqdm(data.mol, desc='Gen Morgen Fingerprints')])\n",
    "fps\n"
   ]
  },
  {
   "cell_type": "code",
   "execution_count": 21,
   "metadata": {},
   "outputs": [
    {
     "name": "stdout",
     "output_type": "stream",
     "text": [
      "Train shape: (9600, 1024)\n"
     ]
    }
   ],
   "source": [
    "## Split the data\n",
    "# Separate features (fingerprints) and targets\n",
    "X = fps  # fingerprints we generated earlier\n",
    "Y = data.drop(['smiles', 'mol'], axis=1)  # all columns except smiles and mol\n",
    "\n",
    "X_train, X_test, Y_train, Y_test = train_test_split(X, Y, test_size=0.2, random_state=42)\n",
    "print(f'Train shape: {X_train.shape}')"
   ]
  },
  {
   "cell_type": "code",
   "execution_count": 26,
   "metadata": {},
   "outputs": [
    {
     "data": {
      "application/vnd.jupyter.widget-view+json": {
       "model_id": "ecfe72b97e4d4315bb0bf58c64b34cfb",
       "version_major": 2,
       "version_minor": 0
      },
      "text/plain": [
       "Training:   0%|          | 0/11 [00:00<?, ?it/s]"
      ]
     },
     "metadata": {},
     "output_type": "display_data"
    },
    {
     "name": "stdout",
     "output_type": "stream",
     "text": [
      "[ True  True  True ...  True  True  True]\n",
      "[ True  True  True ...  True  True  True]\n",
      "[ True  True  True ...  True  True  True]\n",
      "[ True  True  True ...  True  True  True]\n",
      "[ True  True  True ...  True  True  True]\n",
      "[ True  True  True ...  True  True  True]\n",
      "[ True  True  True ...  True  True  True]\n",
      "[ True  True  True ...  True  True  True]\n",
      "[ True  True  True ...  True  True  True]\n",
      "[ True  True  True ...  True  True  True]\n",
      "[ True  True  True ...  True  True  True]\n"
     ]
    }
   ],
   "source": [
    "## The model for the tasks\n",
    "\n",
    "def train_rf(X_train, X_test, Y_train, Y_test):\n",
    "    seed = 1234\n",
    "    n_tasks = Y_train.shape[1]\n",
    "    y_hats_probability = np.empty((X_test.shape[0], n_tasks))\n",
    "    y_hats_class = np.empty_like(y_hats_probability)\n",
    "\n",
    "    #Train a random forest for each task\n",
    "    for i in tqdm(range(n_tasks), desc='Training'):\n",
    "        random_forest = RandomForestClassifier(n_estimators=100, random_state=seed)\n",
    "        print(~np.isnan(Y_train[:, i]))\n",
    "        index = ~np.isnan(Y_train[:, i])\n",
    "\n",
    "        random_forest.fit(X_train[index], Y_train[index, i])\n",
    "        y_hats_probability[:, i] = random_forest.predict_proba(X_test)[:, 1]\n",
    "        y_hats_class[:, i] = random_forest.predict(X_test)\n",
    "    return y_hats_probability, y_hats_class\n",
    "\n",
    "#Train the model\n",
    "y_hat_probability, y_hat_class = train_rf(X_train=X_train, X_test=X_test, Y_train=Y_train.values, Y_test=Y_test.values)\n"
   ]
  },
  {
   "cell_type": "code",
   "execution_count": 27,
   "metadata": {},
   "outputs": [
    {
     "data": {
      "text/html": [
       "<div>\n",
       "<style scoped>\n",
       "    .dataframe tbody tr th:only-of-type {\n",
       "        vertical-align: middle;\n",
       "    }\n",
       "\n",
       "    .dataframe tbody tr th {\n",
       "        vertical-align: top;\n",
       "    }\n",
       "\n",
       "    .dataframe thead th {\n",
       "        text-align: right;\n",
       "    }\n",
       "</style>\n",
       "<table border=\"1\" class=\"dataframe\">\n",
       "  <thead>\n",
       "    <tr style=\"text-align: right;\">\n",
       "      <th></th>\n",
       "      <th>0</th>\n",
       "      <th>1</th>\n",
       "      <th>2</th>\n",
       "      <th>3</th>\n",
       "      <th>4</th>\n",
       "      <th>5</th>\n",
       "      <th>6</th>\n",
       "      <th>7</th>\n",
       "      <th>8</th>\n",
       "      <th>9</th>\n",
       "      <th>10</th>\n",
       "    </tr>\n",
       "  </thead>\n",
       "  <tbody>\n",
       "    <tr>\n",
       "      <th>0</th>\n",
       "      <td>0.920000</td>\n",
       "      <td>1.000000</td>\n",
       "      <td>0.980</td>\n",
       "      <td>0.950000</td>\n",
       "      <td>0.540000</td>\n",
       "      <td>0.565000</td>\n",
       "      <td>0.980000</td>\n",
       "      <td>0.990000</td>\n",
       "      <td>0.99</td>\n",
       "      <td>0.99</td>\n",
       "      <td>0.755000</td>\n",
       "    </tr>\n",
       "    <tr>\n",
       "      <th>1</th>\n",
       "      <td>1.000000</td>\n",
       "      <td>0.990000</td>\n",
       "      <td>0.885</td>\n",
       "      <td>0.990000</td>\n",
       "      <td>0.930000</td>\n",
       "      <td>0.900000</td>\n",
       "      <td>0.590000</td>\n",
       "      <td>0.970000</td>\n",
       "      <td>0.99</td>\n",
       "      <td>0.98</td>\n",
       "      <td>0.405000</td>\n",
       "    </tr>\n",
       "    <tr>\n",
       "      <th>2</th>\n",
       "      <td>0.976833</td>\n",
       "      <td>1.000000</td>\n",
       "      <td>1.000</td>\n",
       "      <td>1.000000</td>\n",
       "      <td>0.489333</td>\n",
       "      <td>0.940000</td>\n",
       "      <td>1.000000</td>\n",
       "      <td>1.000000</td>\n",
       "      <td>1.00</td>\n",
       "      <td>1.00</td>\n",
       "      <td>0.940000</td>\n",
       "    </tr>\n",
       "    <tr>\n",
       "      <th>3</th>\n",
       "      <td>0.895000</td>\n",
       "      <td>0.903333</td>\n",
       "      <td>0.890</td>\n",
       "      <td>0.885000</td>\n",
       "      <td>0.888333</td>\n",
       "      <td>0.870000</td>\n",
       "      <td>0.865000</td>\n",
       "      <td>0.940000</td>\n",
       "      <td>0.82</td>\n",
       "      <td>0.90</td>\n",
       "      <td>0.445000</td>\n",
       "    </tr>\n",
       "    <tr>\n",
       "      <th>4</th>\n",
       "      <td>0.890000</td>\n",
       "      <td>0.854167</td>\n",
       "      <td>0.790</td>\n",
       "      <td>0.835000</td>\n",
       "      <td>0.785833</td>\n",
       "      <td>0.720000</td>\n",
       "      <td>0.750000</td>\n",
       "      <td>0.871667</td>\n",
       "      <td>0.96</td>\n",
       "      <td>0.95</td>\n",
       "      <td>0.340000</td>\n",
       "    </tr>\n",
       "    <tr>\n",
       "      <th>...</th>\n",
       "      <td>...</td>\n",
       "      <td>...</td>\n",
       "      <td>...</td>\n",
       "      <td>...</td>\n",
       "      <td>...</td>\n",
       "      <td>...</td>\n",
       "      <td>...</td>\n",
       "      <td>...</td>\n",
       "      <td>...</td>\n",
       "      <td>...</td>\n",
       "      <td>...</td>\n",
       "    </tr>\n",
       "    <tr>\n",
       "      <th>2395</th>\n",
       "      <td>0.960000</td>\n",
       "      <td>0.985000</td>\n",
       "      <td>0.930</td>\n",
       "      <td>0.966000</td>\n",
       "      <td>0.900000</td>\n",
       "      <td>0.870000</td>\n",
       "      <td>0.930000</td>\n",
       "      <td>0.970000</td>\n",
       "      <td>0.96</td>\n",
       "      <td>0.58</td>\n",
       "      <td>0.628333</td>\n",
       "    </tr>\n",
       "    <tr>\n",
       "      <th>2396</th>\n",
       "      <td>1.000000</td>\n",
       "      <td>0.980000</td>\n",
       "      <td>0.990</td>\n",
       "      <td>0.980000</td>\n",
       "      <td>0.692000</td>\n",
       "      <td>0.503333</td>\n",
       "      <td>1.000000</td>\n",
       "      <td>0.980000</td>\n",
       "      <td>1.00</td>\n",
       "      <td>0.98</td>\n",
       "      <td>0.940000</td>\n",
       "    </tr>\n",
       "    <tr>\n",
       "      <th>2397</th>\n",
       "      <td>0.900000</td>\n",
       "      <td>0.980000</td>\n",
       "      <td>0.920</td>\n",
       "      <td>0.945000</td>\n",
       "      <td>0.689000</td>\n",
       "      <td>0.591667</td>\n",
       "      <td>0.966667</td>\n",
       "      <td>0.971667</td>\n",
       "      <td>0.99</td>\n",
       "      <td>0.98</td>\n",
       "      <td>0.775000</td>\n",
       "    </tr>\n",
       "    <tr>\n",
       "      <th>2398</th>\n",
       "      <td>0.953333</td>\n",
       "      <td>0.976667</td>\n",
       "      <td>0.900</td>\n",
       "      <td>0.946667</td>\n",
       "      <td>0.732500</td>\n",
       "      <td>0.646667</td>\n",
       "      <td>0.940000</td>\n",
       "      <td>0.960000</td>\n",
       "      <td>0.98</td>\n",
       "      <td>0.98</td>\n",
       "      <td>0.663333</td>\n",
       "    </tr>\n",
       "    <tr>\n",
       "      <th>2399</th>\n",
       "      <td>1.000000</td>\n",
       "      <td>1.000000</td>\n",
       "      <td>1.000</td>\n",
       "      <td>1.000000</td>\n",
       "      <td>0.490000</td>\n",
       "      <td>0.390000</td>\n",
       "      <td>1.000000</td>\n",
       "      <td>1.000000</td>\n",
       "      <td>1.00</td>\n",
       "      <td>0.98</td>\n",
       "      <td>0.830000</td>\n",
       "    </tr>\n",
       "  </tbody>\n",
       "</table>\n",
       "<p>2400 rows × 11 columns</p>\n",
       "</div>"
      ],
      "text/plain": [
       "            0         1      2         3         4         5         6   \\\n",
       "0     0.920000  1.000000  0.980  0.950000  0.540000  0.565000  0.980000   \n",
       "1     1.000000  0.990000  0.885  0.990000  0.930000  0.900000  0.590000   \n",
       "2     0.976833  1.000000  1.000  1.000000  0.489333  0.940000  1.000000   \n",
       "3     0.895000  0.903333  0.890  0.885000  0.888333  0.870000  0.865000   \n",
       "4     0.890000  0.854167  0.790  0.835000  0.785833  0.720000  0.750000   \n",
       "...        ...       ...    ...       ...       ...       ...       ...   \n",
       "2395  0.960000  0.985000  0.930  0.966000  0.900000  0.870000  0.930000   \n",
       "2396  1.000000  0.980000  0.990  0.980000  0.692000  0.503333  1.000000   \n",
       "2397  0.900000  0.980000  0.920  0.945000  0.689000  0.591667  0.966667   \n",
       "2398  0.953333  0.976667  0.900  0.946667  0.732500  0.646667  0.940000   \n",
       "2399  1.000000  1.000000  1.000  1.000000  0.490000  0.390000  1.000000   \n",
       "\n",
       "            7     8     9         10  \n",
       "0     0.990000  0.99  0.99  0.755000  \n",
       "1     0.970000  0.99  0.98  0.405000  \n",
       "2     1.000000  1.00  1.00  0.940000  \n",
       "3     0.940000  0.82  0.90  0.445000  \n",
       "4     0.871667  0.96  0.95  0.340000  \n",
       "...        ...   ...   ...       ...  \n",
       "2395  0.970000  0.96  0.58  0.628333  \n",
       "2396  0.980000  1.00  0.98  0.940000  \n",
       "2397  0.971667  0.99  0.98  0.775000  \n",
       "2398  0.960000  0.98  0.98  0.663333  \n",
       "2399  1.000000  1.00  0.98  0.830000  \n",
       "\n",
       "[2400 rows x 11 columns]"
      ]
     },
     "execution_count": 27,
     "metadata": {},
     "output_type": "execute_result"
    }
   ],
   "source": [
    "pd.DataFrame(y_hat_probability)"
   ]
  }
 ],
 "metadata": {
  "kernelspec": {
   "display_name": "Python 3",
   "language": "python",
   "name": "python3"
  },
  "language_info": {
   "codemirror_mode": {
    "name": "ipython",
    "version": 3
   },
   "file_extension": ".py",
   "mimetype": "text/x-python",
   "name": "python",
   "nbconvert_exporter": "python",
   "pygments_lexer": "ipython3",
   "version": "3.8.10"
  }
 },
 "nbformat": 4,
 "nbformat_minor": 2
}
