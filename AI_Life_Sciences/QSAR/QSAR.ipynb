{
 "cells": [
  {
   "cell_type": "markdown",
   "metadata": {},
   "source": [
    "## QSAR Challenge"
   ]
  },
  {
   "cell_type": "code",
   "execution_count": 8,
   "metadata": {},
   "outputs": [],
   "source": [
    "## Imports\n",
    "import pandas as pd\n",
    "import numpy as np\n",
    "import seaborn as sns\n",
    "import matplotlib.pyplot as plt\n",
    "from tqdm.auto import tqdm\n",
    "\n",
    "from sklearn.model_selection import train_test_split"
   ]
  },
  {
   "cell_type": "code",
   "execution_count": 6,
   "metadata": {},
   "outputs": [
    {
     "data": {
      "text/html": [
       "<div>\n",
       "<style scoped>\n",
       "    .dataframe tbody tr th:only-of-type {\n",
       "        vertical-align: middle;\n",
       "    }\n",
       "\n",
       "    .dataframe tbody tr th {\n",
       "        vertical-align: top;\n",
       "    }\n",
       "\n",
       "    .dataframe thead th {\n",
       "        text-align: right;\n",
       "    }\n",
       "</style>\n",
       "<table border=\"1\" class=\"dataframe\">\n",
       "  <thead>\n",
       "    <tr style=\"text-align: right;\">\n",
       "      <th></th>\n",
       "      <th>smiles</th>\n",
       "      <th>task1</th>\n",
       "      <th>task2</th>\n",
       "      <th>task3</th>\n",
       "      <th>task4</th>\n",
       "      <th>task5</th>\n",
       "      <th>task6</th>\n",
       "      <th>task7</th>\n",
       "      <th>task8</th>\n",
       "      <th>task9</th>\n",
       "      <th>task10</th>\n",
       "      <th>task11</th>\n",
       "    </tr>\n",
       "  </thead>\n",
       "  <tbody>\n",
       "    <tr>\n",
       "      <th>0</th>\n",
       "      <td>CC=C(CCC(C)C1CCC2C3=CCC4C(C)C(O)CCC4(C)C3CCC21...</td>\n",
       "      <td>0</td>\n",
       "      <td>0</td>\n",
       "      <td>0</td>\n",
       "      <td>0</td>\n",
       "      <td>-1</td>\n",
       "      <td>-1</td>\n",
       "      <td>0</td>\n",
       "      <td>0</td>\n",
       "      <td>0</td>\n",
       "      <td>0</td>\n",
       "      <td>0</td>\n",
       "    </tr>\n",
       "    <tr>\n",
       "      <th>1</th>\n",
       "      <td>O=c1cc(-c2ccccc2)oc2cc(O)cc(O)c12</td>\n",
       "      <td>0</td>\n",
       "      <td>0</td>\n",
       "      <td>0</td>\n",
       "      <td>0</td>\n",
       "      <td>1</td>\n",
       "      <td>0</td>\n",
       "      <td>0</td>\n",
       "      <td>0</td>\n",
       "      <td>0</td>\n",
       "      <td>0</td>\n",
       "      <td>-1</td>\n",
       "    </tr>\n",
       "    <tr>\n",
       "      <th>2</th>\n",
       "      <td>CC(C)(C)OCC1CO1</td>\n",
       "      <td>0</td>\n",
       "      <td>0</td>\n",
       "      <td>0</td>\n",
       "      <td>0</td>\n",
       "      <td>-1</td>\n",
       "      <td>-1</td>\n",
       "      <td>0</td>\n",
       "      <td>0</td>\n",
       "      <td>0</td>\n",
       "      <td>0</td>\n",
       "      <td>0</td>\n",
       "    </tr>\n",
       "    <tr>\n",
       "      <th>3</th>\n",
       "      <td>CN(C(=O)CCCOc1ccc2[nH]c(=O)ccc2c1)C1CCCCC1</td>\n",
       "      <td>0</td>\n",
       "      <td>0</td>\n",
       "      <td>0</td>\n",
       "      <td>0</td>\n",
       "      <td>-1</td>\n",
       "      <td>-1</td>\n",
       "      <td>0</td>\n",
       "      <td>0</td>\n",
       "      <td>0</td>\n",
       "      <td>0</td>\n",
       "      <td>-1</td>\n",
       "    </tr>\n",
       "    <tr>\n",
       "      <th>4</th>\n",
       "      <td>C(=C/c1ccccc1)\\CN1CCN(C(c2ccccc2)c2ccccc2)CC1</td>\n",
       "      <td>0</td>\n",
       "      <td>0</td>\n",
       "      <td>0</td>\n",
       "      <td>0</td>\n",
       "      <td>0</td>\n",
       "      <td>0</td>\n",
       "      <td>-1</td>\n",
       "      <td>0</td>\n",
       "      <td>0</td>\n",
       "      <td>0</td>\n",
       "      <td>-1</td>\n",
       "    </tr>\n",
       "  </tbody>\n",
       "</table>\n",
       "</div>"
      ],
      "text/plain": [
       "                                              smiles  task1  task2  task3  \\\n",
       "0  CC=C(CCC(C)C1CCC2C3=CCC4C(C)C(O)CCC4(C)C3CCC21...      0      0      0   \n",
       "1                  O=c1cc(-c2ccccc2)oc2cc(O)cc(O)c12      0      0      0   \n",
       "2                                    CC(C)(C)OCC1CO1      0      0      0   \n",
       "3         CN(C(=O)CCCOc1ccc2[nH]c(=O)ccc2c1)C1CCCCC1      0      0      0   \n",
       "4      C(=C/c1ccccc1)\\CN1CCN(C(c2ccccc2)c2ccccc2)CC1      0      0      0   \n",
       "\n",
       "   task4  task5  task6  task7  task8  task9  task10  task11  \n",
       "0      0     -1     -1      0      0      0       0       0  \n",
       "1      0      1      0      0      0      0       0      -1  \n",
       "2      0     -1     -1      0      0      0       0       0  \n",
       "3      0     -1     -1      0      0      0       0      -1  \n",
       "4      0      0      0     -1      0      0       0      -1  "
      ]
     },
     "execution_count": 6,
     "metadata": {},
     "output_type": "execute_result"
    }
   ],
   "source": [
    "## Load Dataset\n",
    "data = pd.read_csv('resources/data_train.csv', index_col=0).reset_index(drop=True)\n",
    "data.head()\n",
    "\n",
    "## Data Preprocessing \n"
   ]
  },
  {
   "cell_type": "code",
   "execution_count": null,
   "metadata": {},
   "outputs": [
    {
     "name": "stdout",
     "output_type": "stream",
     "text": [
      "Train shape: (9600, 12)\n"
     ]
    }
   ],
   "source": [
    "## Split the data\n",
    "x_train, x_test = train_test_split(data, test_size=0.2, random_state=42)\n",
    "print(f'Train shape: {x_train.shape}')"
   ]
  },
  {
   "cell_type": "code",
   "execution_count": null,
   "metadata": {},
   "outputs": [],
   "source": [
    "## The model for the tasks\n",
    "\n",
    "def train_rf(x_train, x_test):\n",
    "    seed = 42\n",
    "    n_tasks = x_train.shape[1]\n",
    "    y_hats_probability = np.empty((x_test.shape[0], n_tasks))\n",
    "    y_hats_class = np.empty_like(y_hats_probability)\n",
    "\n",
    "    #Train a random forest for each task\n",
    "    for i in tdqm(range(n_tasks), desc='Training'):\n",
    "        random_forest = RandomForestClassifier(n_estimators=100, random_state=seed)\n",
    "        index = (np.isnan(x_train[:, i]))\n",
    "\n",
    "        random_forest.fit(x_train[index], x_test[index, i])\n",
    "        y_hats_probability[:, i] = random_forest.predict_proba(x_test)[:, 1]\n",
    "        y_hats_class[:, i] = random_forest.predict(x_test)\n",
    "    return y_hats_probability, y_hats_class\n",
    "\n"
   ]
  }
 ],
 "metadata": {
  "kernelspec": {
   "display_name": "Python 3",
   "language": "python",
   "name": "python3"
  },
  "language_info": {
   "codemirror_mode": {
    "name": "ipython",
    "version": 3
   },
   "file_extension": ".py",
   "mimetype": "text/x-python",
   "name": "python",
   "nbconvert_exporter": "python",
   "pygments_lexer": "ipython3",
   "version": "3.8.10"
  }
 },
 "nbformat": 4,
 "nbformat_minor": 2
}
