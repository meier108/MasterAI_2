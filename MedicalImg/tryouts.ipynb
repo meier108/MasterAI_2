{
 "cells": [
  {
   "cell_type": "markdown",
   "id": "39907707",
   "metadata": {},
   "source": [
    "## BraTS 2024 Challenge: Tryout Notebook\n",
    "Try different approaches and concepts\n"
   ]
  },
  {
   "cell_type": "markdown",
   "id": "100ef110",
   "metadata": {},
   "source": [
    "#### Imports"
   ]
  },
  {
   "cell_type": "code",
   "execution_count": null,
   "id": "5243f6fc",
   "metadata": {},
   "outputs": [],
   "source": []
  },
  {
   "cell_type": "markdown",
   "id": "0b4d8103",
   "metadata": {},
   "source": [
    "#### Data preprocessing\n"
   ]
  },
  {
   "cell_type": "code",
   "execution_count": null,
   "id": "f764825e",
   "metadata": {},
   "outputs": [],
   "source": [
    "import synapseclient\n",
    "syn = synapseclient.Synapse()\n",
    "syn.login(authToken=True)\n",
    "\n",
    "dl_list_file_entities = syn.get_download_list()\n",
    "\n",
    "folder = syn.store(Folder(name='download_data', parent='MedicalImgData'))\n"
   ]
  }
 ],
 "metadata": {
  "kernelspec": {
   "display_name": "Python 3",
   "language": "python",
   "name": "python3"
  },
  "language_info": {
   "name": "python",
   "version": "3.8.10"
  }
 },
 "nbformat": 4,
 "nbformat_minor": 5
}
