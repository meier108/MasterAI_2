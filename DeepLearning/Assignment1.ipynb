{
  "cells": [
    {
      "cell_type": "raw",
      "metadata": {
        "pycharm": {
          "name": "#%% raw\n"
        },
        "id": "29F82rscO0pY"
      },
      "source": [
        "\n",
        "This  material,  no  matter  whether  in  printed  or  electronic  form, may  be  used  for  personal  and non-commercial educational use only. Any reproduction of this manuscript, no matter whether as a whole or in parts, no matter whether in printed or in electronic form,\n",
        "requires explicit prior acceptance of the authors.\n"
      ]
    },
    {
      "cell_type": "markdown",
      "metadata": {
        "deletable": false,
        "editable": false,
        "nbgrader": {
          "cell_type": "markdown",
          "checksum": "36819a87118b39ea83154056007f8ede",
          "grade": false,
          "grade_id": "cell-0be15f53f67530c6",
          "locked": true,
          "schema_version": 3,
          "solution": false,
          "task": false
        },
        "tags": [],
        "id": "H-U4oTvvO0pZ"
      },
      "source": [
        "<!-- Assignment 2 - SS 2023 -->\n",
        "\n",
        "# Vision Networks and Fast Training (15 points)"
      ]
    },
    {
      "cell_type": "markdown",
      "metadata": {
        "id": "XYOPiLEhO0pe"
      },
      "source": [
        "This notebook contains one of the assignments for the exercises in Deep Learning and Neural Nets 2.\n",
        "It provides a skeleton, i.e. code with gaps, that will be filled out by you in different exercises.\n",
        "All exercise descriptions are visually annotated by a vertical bar on the left and some extra indentation,\n",
        "unless you already messed with your jupyter notebook configuration.\n",
        "Any questions that are not part of the exercise statement do not need to be answered,\n",
        "but should rather be interpreted as triggers to guide your thought process.\n",
        "\n",
        "**Note**: The cells in the introductory part (before the first subtitle)\n",
        "perform all necessary imports and provide utility functions that should work without (too much) problems.\n",
        "Please, do not alter this code or add extra import statements in your submission, unless explicitly allowed!\n",
        "\n",
        "<span style=\"color:#d95c4c\">**IMPORTANT:**</span> Please, change the name of your submission file so that it contains your student ID!"
      ]
    },
    {
      "cell_type": "markdown",
      "metadata": {
        "id": "p8a2I9lNO0pf"
      },
      "source": [
        "In this assignment, we will take a closer look at some famous vision architectures.\n",
        "Since most of these architectures are very large, it requires high-end hardware to train from scratch.\n",
        "To leverage the limited availability of hardware, also *Transfer Learning* can be used.\n",
        "By using stored weights of a large network a new network can be trained cheaply on new datasets."
      ]
    },
    {
      "cell_type": "code",
      "execution_count": 28,
      "metadata": {
        "pycharm": {
          "name": "#%%\n"
        },
        "id": "xRQtBg3zO0pg"
      },
      "outputs": [],
      "source": [
        "import inspect\n",
        "import torch\n",
        "import torchvision\n",
        "from torch import nn\n",
        "from torch import optim\n",
        "from torch.utils.data import DataLoader\n",
        "from tqdm.notebook import trange\n",
        "\n",
        "torch.manual_seed(1806)\n",
        "torch.cuda.manual_seed(1806)"
      ]
    },
    {
      "cell_type": "code",
      "execution_count": null,
      "metadata": {
        "pycharm": {
          "name": "#%%\n"
        },
        "colab": {
          "base_uri": "https://localhost:8080/"
        },
        "id": "xTG9l1Y2O0ph",
        "outputId": "b2edc79b-8b8c-4409-8079-1dbfb3b1a5dc"
      },
      "outputs": [
        {
          "output_type": "stream",
          "name": "stdout",
          "text": [
            "Mounted at /content/gdrive\n",
            "gdrive/MyDrive/.pytorch\n"
          ]
        }
      ],
      "source": [
        "# google colab data management\n",
        "import os.path\n",
        "\n",
        "try:\n",
        "    from google.colab import drive\n",
        "    drive.mount('/content/gdrive')\n",
        "    _home = 'gdrive/MyDrive/'\n",
        "except ImportError:\n",
        "    _home = '~'\n",
        "finally:\n",
        "    data_root = os.path.join(_home, '.pytorch')\n",
        "\n",
        "print(data_root)"
      ]
    },
    {
      "cell_type": "markdown",
      "metadata": {
        "pycharm": {
          "name": "#%% md\n"
        },
        "id": "MyPk35LXO0pi"
      },
      "source": [
        "## LeNet-5 and its Offspring\n",
        "\n",
        "![LeNet-5 architecture](https://miro.medium.com/max/2154/1*1TI1aGBZ4dybR6__DI9dzA.png)\n",
        "\n",
        "The LeNet-5 architecture (depicted above) is one of the first convolutional networks.\n",
        "Since convolutions are extremely well suited for many computer vision tasks,\n",
        "a wide variety of network architectures using convolutional layers has become available.\n",
        "Although the differences in performance are sometimes large,\n",
        "the architectures can generally be considered variations on the same theme."
      ]
    },
    {
      "cell_type": "markdown",
      "metadata": {
        "pycharm": {
          "name": "#%% md\n"
        },
        "id": "YjqFAVXyO0pi"
      },
      "source": [
        "### Alexnet\n",
        "\n",
        "![alex-net architecture](https://cdn-images-1.medium.com/max/1000/1*wzflNwJw9QkjWWvTosXhNw.png)\n",
        "\n",
        "In 2012 Alex Krizhevsky et al. won the [Imagenet Large Scale Visual Recognition Challenge](http://www.image-net.org/challenges/LSVRC/) (ILSVRC).\n",
        "The network they used, which is known as *Alex-net*, is depicted below and follows the same basic principles as LeNet-5.\n",
        "Alex-net has quite a bit more parameters than LeNet-5, therefore it requires a large amount of computational resources to train.\n",
        "\n",
        "To speed up training time, Alex-net was trained on GPU.\n",
        "Since GPUs have access to little memory compared to CPUs (especially back in the days),\n",
        "alex-net did not fit on a single GPU and required 2 GPUs to train the model,\n",
        "hence the distinction between two paths in the illustration of the network.\n",
        "\n",
        "On modern GPUs, it is no longer a problem to fit alex-net on a single GPU.\n",
        "Due to the fact that deep learning frameworks mostly support hardware acceleration,\n",
        "it has even become extremely easy and almost common to train (large) networks on GPUs.\n",
        "A more detailed description on how to achieve this in pytorch, is given below.\n",
        "\n",
        "Another important add-on, is the use of the dropout regularisation technique in the fully connected layers.\n",
        "From DL & NN 1 you should remember that dropout behaves differently during testing and training.\n",
        "When using Dropout or other modules with different behaviour, e.g. BatchNorm, in pytorch,\n",
        "it is important to make sure that your network operates in the right mode.\n",
        "To do this, the `nn.Module` class provides the `train` and `eval` methods\n",
        "and invokes it on all submodules to assure that the desired behaviour is triggered."
      ]
    },
    {
      "cell_type": "markdown",
      "metadata": {
        "pycharm": {
          "name": "#%% md\n"
        },
        "id": "StaQS7nRO0pj"
      },
      "source": [
        "### Pytorch GPU acceleration\n",
        "\n",
        "In pytorch, training a model on GPU is relatively easy.\n",
        "To copy a tensor `x` from main memory (or wherever it may be) to GPU memory,\n",
        "all we need to do is call `x.to('cuda')` or equivalently `x.cuda()`.\n",
        "When multiple GPUs are available, `x.to('cuda:0')` copies a tensor to the first GPU,\n",
        "`x.to('cuda:1')` to the second, etc.\n",
        "Similarly, to copy a tensor from a GPU (or again wherever it may be) to main memory,\n",
        "`x.to('cpu')` or equivalently `x.cpu()` can be used.\n",
        "\n",
        "Whenever a computation is done on tensors that reside on a specific device,\n",
        "the result will also be on that device.\n",
        "It is not possible, however, to make computations with tensors from different devices.\n",
        "This means that the training of an entire network automatically takes place on e.g. a GPU,\n",
        "as soon as all the variables reside on the same device.\n",
        "When working with neural networks,\n",
        "this is the case if both the network parameters and the data are moved to the same device.\n",
        "\n",
        "To move all parameters of a network to the correct device,\n",
        "The `nn.Module` class provides a convenience `to` method\n",
        "that moves all registered parameters, buffers and submodules to the correct device.\n",
        "\n",
        "As for the data, it is often possible to fit the entire dataset in GPU memory.\n",
        "However, often it does not provide any advantages or it even comes with disadvantages.\n",
        "E.g. the `MNIST` dataset from `torchvision` provides PIL images that can not reside on GPU.\n",
        "If the dataset would be stored on the GPU, the data would have to move to CPU first,\n",
        "where the pre-processing is done on the PIL images, and then move back to the GPU.\n",
        "Therefore, it is considered good practice to keep the dataset in main memory\n",
        "and move the samples to the GPU only when they are needed for computation."
      ]
    },
    {
      "cell_type": "markdown",
      "metadata": {
        "id": "qElplMVpO0pk"
      },
      "source": [
        "### Exercise 1: Hardware Acceleration (3 points)\n",
        "\n",
        "In order to allow our computations to be accelerated,\n",
        "the utility functions `evaluate` and `update` require some minor adjustments.\n",
        "\n",
        " > Alter the `evaluate` and `update` functions from assignment 1\n",
        " > so that it is assured that the inputs are on the same device as the network parameters.\n",
        " > Also put the networks in the right modes so that dropout etc. work correctly."
      ]
    },
    {
      "cell_type": "code",
      "execution_count": 11,
      "metadata": {
        "deletable": false,
        "nbgrader": {
          "cell_type": "code",
          "checksum": "294592f974346dcdcff31010403bea51",
          "grade": false,
          "grade_id": "cell-56b6cb01eff2e2f8",
          "locked": false,
          "schema_version": 3,
          "solution": true,
          "task": false
        },
        "pycharm": {
          "name": "#%%\n"
        },
        "tags": [],
        "id": "tNCp3j6sO0pk"
      },
      "outputs": [],
      "source": [
        "@torch.no_grad()\n",
        "def evaluate(network: nn.Module, data: DataLoader, metric: callable) -> list:\n",
        "    results = []\n",
        "    network.to('cuda')\n",
        "    for x, y in data:\n",
        "        x = x.to('cuda')\n",
        "        y = y.to('cuda')\n",
        "        logits = network(x)\n",
        "        res = metric(logits, y)\n",
        "        results.append(res.item())\n",
        "    return results\n",
        "\n",
        "\n",
        "@torch.enable_grad()\n",
        "def update(network: nn.Module, data: DataLoader, loss: nn.Module,\n",
        "           opt: optim.Optimizer) -> list:\n",
        "    network.to('cuda')\n",
        "    errs = []\n",
        "    for x, y in data:\n",
        "        x = x.to('cuda')\n",
        "        y = y.to('cuda')\n",
        "        logits = network(x)\n",
        "        err = loss(logits, y)\n",
        "        errs.append(err.item())\n",
        "        opt.zero_grad()\n",
        "        err.backward()\n",
        "        opt.step()\n",
        "    return errs"
      ]
    },
    {
      "cell_type": "code",
      "execution_count": 12,
      "metadata": {
        "id": "UfH_e3WOO0pl"
      },
      "outputs": [],
      "source": [
        "# sanity check\n",
        "class SimpleModel(nn.Module):\n",
        "    def __init__(self):\n",
        "        super().__init__()\n",
        "        self.fc = nn.Linear(2, 1)\n",
        "\n",
        "    def forward(self, x):\n",
        "        return self.fc(x)\n",
        "\n",
        "x_data = torch.tensor([[1.0, 2.0], [3.0, 4.0], [5.0, 6.0], [7.0, 8.0]])\n",
        "y_data = torch.tensor([[1.0], [2.0], [3.0], [4.0]])\n",
        "dataset = torch.utils.data.TensorDataset(x_data, y_data)\n",
        "data_loader = torch.utils.data.DataLoader(dataset, shuffle=True)\n",
        "model = SimpleModel()\n",
        "loss_fn = nn.MSELoss()\n",
        "optimizer = optim.SGD(model.parameters(), lr=0.01)\n",
        "errs = update(model, data_loader, loss_fn, optimizer)\n",
        "eval_errs = evaluate(model, data_loader, loss_fn)\n",
        "assert len(errs) == 4; assert len(eval_errs) == 4"
      ]
    },
    {
      "cell_type": "code",
      "execution_count": 13,
      "metadata": {
        "tags": [],
        "id": "3RMYNL9GO0pm"
      },
      "outputs": [],
      "source": [
        "# sanity check\n",
        "class HackyLoss(nn.Module):\n",
        "\n",
        "    def __init__(self):\n",
        "        super().__init__()\n",
        "        self.devices = []\n",
        "\n",
        "    def forward(self, logits, y):\n",
        "        self.devices.append(logits.device)\n",
        "        return torch.nn.functional.cross_entropy(logits, y)\n",
        "\n",
        "\n",
        "test_net = nn.Linear(512, 10).train().to(\"cpu\")\n",
        "test_data = torch.utils.data.TensorDataset(\n",
        "    torch.randn(1, 512), torch.randint(10, size=(1, ))\n",
        ")\n",
        "test_loss = HackyLoss()\n",
        "\n",
        "test_loss.devices = []\n",
        "test_net.to(\"cuda\")\n",
        "try:\n",
        "    evaluate(test_net, DataLoader(test_data), test_loss)\n",
        "except RuntimeError:\n",
        "    pass\n",
        "\n",
        "assert len(test_loss.devices) > 0, (\n",
        "    \"ex1: evaluate function does not work on cuda device\"\n",
        ")\n",
        "assert all(dev.type == \"cuda\" for dev in test_loss.devices), (\n",
        "    \"ex1: evaluate function does not use cuda device\"\n",
        ")"
      ]
    },
    {
      "cell_type": "code",
      "execution_count": 14,
      "metadata": {
        "deletable": false,
        "editable": false,
        "nbgrader": {
          "cell_type": "code",
          "checksum": "a4d2f024315ea088f618a37b3da16048",
          "grade": true,
          "grade_id": "cell-68e5207f6414f630",
          "locked": true,
          "points": 0.5,
          "schema_version": 3,
          "solution": false,
          "task": false
        },
        "tags": [],
        "id": "LoGW6M6qO0pn"
      },
      "outputs": [],
      "source": [
        "# Test Cell: do not edit or delete!"
      ]
    },
    {
      "cell_type": "code",
      "execution_count": 15,
      "metadata": {
        "deletable": false,
        "editable": false,
        "nbgrader": {
          "cell_type": "code",
          "checksum": "b2a4b11f16adcb1c43cc711f8ac88ee0",
          "grade": true,
          "grade_id": "cell-1000f2964ec27880",
          "locked": true,
          "points": 0,
          "schema_version": 3,
          "solution": false,
          "task": false
        },
        "id": "uyuvGuJdO0pn"
      },
      "outputs": [],
      "source": [
        "# Test Cell: do not edit or delete!"
      ]
    },
    {
      "cell_type": "code",
      "execution_count": 16,
      "metadata": {
        "deletable": false,
        "editable": false,
        "nbgrader": {
          "cell_type": "code",
          "checksum": "2293eae5ca745c73874dab88fca3031e",
          "grade": true,
          "grade_id": "cell-0aeb6bf66633d859",
          "locked": true,
          "points": 0.5,
          "schema_version": 3,
          "solution": false,
          "task": false
        },
        "tags": [],
        "id": "oxOhcNWtO0po"
      },
      "outputs": [],
      "source": [
        "# Test Cell: do not edit or delete!"
      ]
    },
    {
      "cell_type": "code",
      "execution_count": 17,
      "metadata": {
        "deletable": false,
        "editable": false,
        "nbgrader": {
          "cell_type": "code",
          "checksum": "d5764e079dd2d9260aabe6c57db5e679",
          "grade": true,
          "grade_id": "cell-206c9dd0aacf2fe9",
          "locked": true,
          "points": 0.5,
          "schema_version": 3,
          "solution": false,
          "task": false
        },
        "tags": [],
        "id": "8efrEZaIO0pp"
      },
      "outputs": [],
      "source": [
        "# Test Cell: do not edit or delete!"
      ]
    },
    {
      "cell_type": "code",
      "execution_count": 18,
      "metadata": {
        "deletable": false,
        "editable": false,
        "nbgrader": {
          "cell_type": "code",
          "checksum": "7b2ac4d625468db6922bb3802981ce14",
          "grade": true,
          "grade_id": "cell-ae0a1be36ea30379",
          "locked": true,
          "points": 0.5,
          "schema_version": 3,
          "solution": false,
          "task": false
        },
        "tags": [],
        "id": "vevJJMU-O0pq"
      },
      "outputs": [],
      "source": [
        "# Test Cell: do not edit or delete!"
      ]
    },
    {
      "cell_type": "code",
      "execution_count": 19,
      "metadata": {
        "deletable": false,
        "editable": false,
        "nbgrader": {
          "cell_type": "code",
          "checksum": "80fc26e91bacb01faae0017730f34313",
          "grade": true,
          "grade_id": "cell-97ecdf4b2088e5d1",
          "locked": true,
          "points": 0.5,
          "schema_version": 3,
          "solution": false,
          "task": false
        },
        "tags": [],
        "id": "gFZtMessO0pq"
      },
      "outputs": [],
      "source": [
        "# Test Cell: do not edit or delete!"
      ]
    },
    {
      "cell_type": "markdown",
      "metadata": {
        "pycharm": {
          "name": "#%% md\n"
        },
        "id": "w8Mu9dXnO0pr"
      },
      "source": [
        "### VGG\n",
        "\n",
        "<img src=\"https://miro.medium.com/max/2628/1*lZTWFT36PXsZZK3HjZ3jFQ.png\"\n",
        "     alt=\"VGG architecture\" style=\"width: 70%; margin: auto\" />\n",
        "\n",
        "The Visual Geometry Group at Oxford University introduced\n",
        "different versions of architectures that are now known as VGG net.\n",
        "11-layer, 16-layer and 19-layer variants exist,\n",
        "all of which use only 3x3 convolutions in the feature extraction part.\n",
        "\n",
        "After winning the Imagenet Large Scale Visual Recognition Challenge (ILSVRC) in 2014,\n",
        "the weights of the winning models were made [available](https://www.robots.ox.ac.uk/~vgg/research/very_deep/).\n",
        "This made it possible for researchers with lower computational budgets\n",
        "to make use of the features the network has extracted for natural images.\n",
        "Since 2021, large pre-trained models often end up serving as [foundation models](https://en.wikipedia.org/wiki/Foundation_models).\n",
        "Note that VGG is a very small model compared to modern \"large\" models today."
      ]
    },
    {
      "cell_type": "markdown",
      "metadata": {
        "pycharm": {
          "name": "#%% md\n"
        },
        "id": "0UGZRdj2O0pr"
      },
      "source": [
        "### Exercise 2: VGG for CIFAR-10 (2 points)\n",
        "\n",
        "Most vision architectures have been trained on the ImageNet dataset, which is hard to come by:\n",
        "it is very large (a few 100GB) and requires registration to get access to the images.\n",
        "[CIFAR-10 and CIFAR-100](https://www.cs.toronto.edu/~kriz/cifar.html)\n",
        "are similar datasets that are much easier to obtain\n",
        "and they are one of the standard datasets in `torchvision.datasets`.\n",
        "In this exercise the goal is to modify a vision network that was trained on ImageNet\n",
        "to make predictions on CIFAR-10 so that we can reuse large parts of the weights.\n",
        "\n",
        " > Create a network with the same feature extraction architecture as\n",
        " > `torchvision.models.VGG` so that it can be used for CIFAR images.\n",
        " > Concretely, the goal is to replace the classifier to predict CIFAR labels\n",
        " > instead of the Imagenet labels.\n",
        " > Use global average pooling to make the classifier independent of the exact image size.\n",
        " > Keep the classifier architecture rectangular, i.e. same width for all layers (except for the classes).\n",
        "\n",
        "**Hint:** Take a look at [`torchvision.models.VGG`](https://pytorch.org/vision/0.13/_modules/torchvision/models/vgg.html) if you need some inspiration."
      ]
    },
    {
      "cell_type": "code",
      "execution_count": 47,
      "metadata": {
        "deletable": false,
        "nbgrader": {
          "cell_type": "code",
          "checksum": "ed7a1de69c060df6ec1967e80e1cae88",
          "grade": false,
          "grade_id": "cell-6028296fe7ae4ae8",
          "locked": false,
          "schema_version": 3,
          "solution": true,
          "task": false
        },
        "pycharm": {
          "name": "#%%\n"
        },
        "tags": [],
        "id": "GO6XwRavO0ps"
      },
      "outputs": [],
      "source": [
        "class CifarVGG(nn.Module):\n",
        "    \"\"\" Variant of the VGG network for classifying CIFAR images. \"\"\"\n",
        "\n",
        "    def __init__(self, features: nn.Module, num_classes: int = 10):\n",
        "        \"\"\"\n",
        "        Parameters\n",
        "        ----------\n",
        "        features : nn.Module\n",
        "            The convolutional part of the VGG network.\n",
        "        num_classes : int\n",
        "            The number of output classes in the data.\n",
        "        \"\"\"\n",
        "        # YOUR CODE HERE\n",
        "        super(CifarVGG, self).__init__()\n",
        "        self.features = features\n",
        "        self.avgpool = nn.AdaptiveAvgPool2d((7, 7))\n",
        "\n",
        "        self.classifier = nn.Sequential(\n",
        "            nn.Linear(512 * 7 * 7, 512),\n",
        "            nn.ReLU(True),\n",
        "            nn.Linear(512, 512),\n",
        "            nn.ReLU(True),\n",
        "            nn.Linear(512, num_classes)\n",
        "        )\n",
        "\n",
        "    def forward(self, x):\n",
        "        x = self.features(x)\n",
        "        x = self.avgpool(x)\n",
        "        x = torch.flatten(x, 1)\n",
        "        x = self.classifier(x)\n",
        "        return x\n",
        "\n",
        ""
      ]
    },
    {
      "cell_type": "code",
      "execution_count": 48,
      "metadata": {
        "id": "QguRHN9rO0ps"
      },
      "outputs": [],
      "source": [
        "# sanity check\n",
        "test_net = CifarVGG(nn.Identity()).eval().requires_grad_(False)\n",
        "try:\n",
        "    ref = test_net(torch.zeros(1, 512, 7, 7))\n",
        "except RuntimeError:\n",
        "    raise AssertionError(\"ex2: classifier does not seem to work with default image sizes\") from None\n",
        "\n",
        "assert torch.all(test_net(torch.zeros(1, 512, 14, 14)) == ref), (\n",
        "    \"ex2: architecture depends on input image size, did you forget global average pooling?\")"
      ]
    },
    {
      "cell_type": "code",
      "execution_count": null,
      "metadata": {
        "deletable": false,
        "editable": false,
        "nbgrader": {
          "cell_type": "code",
          "checksum": "9ee5a85203d0529ae957b94c03e5ff0e",
          "grade": true,
          "grade_id": "cell-2e8e3ccf1456fef0",
          "locked": true,
          "points": 1,
          "schema_version": 3,
          "solution": false,
          "task": false
        },
        "tags": [],
        "id": "LzDWv2LxO0pt"
      },
      "outputs": [],
      "source": [
        "# Test Cell: do not edit or delete!"
      ]
    },
    {
      "cell_type": "code",
      "execution_count": null,
      "metadata": {
        "deletable": false,
        "editable": false,
        "nbgrader": {
          "cell_type": "code",
          "checksum": "039d917d553a4f4068985f8660a949a2",
          "grade": true,
          "grade_id": "cell-8e61a71202179ddd",
          "locked": true,
          "points": 0.5,
          "schema_version": 3,
          "solution": false,
          "task": false
        },
        "tags": [],
        "id": "EJH-7X0BO0pt"
      },
      "outputs": [],
      "source": [
        "# Test Cell: do not edit or delete!"
      ]
    },
    {
      "cell_type": "code",
      "execution_count": null,
      "metadata": {
        "deletable": false,
        "editable": false,
        "nbgrader": {
          "cell_type": "code",
          "checksum": "73126064e438869c2f70633c1419cbe7",
          "grade": true,
          "grade_id": "cell-df16e66fb7e6d477",
          "locked": true,
          "points": 0.5,
          "schema_version": 3,
          "solution": false,
          "task": false
        },
        "tags": [],
        "id": "C7WqblGAO0pu"
      },
      "outputs": [],
      "source": [
        "# Test Cell: do not edit or delete!"
      ]
    },
    {
      "cell_type": "markdown",
      "metadata": {
        "pycharm": {
          "name": "#%% md\n"
        },
        "id": "I-CGaVeIO0pu"
      },
      "source": [
        "### Exercise 3: Existing Features (2 points)\n",
        "\n",
        "Training a network like VGG (or any of the other networks in this assignment)\n",
        "can take a few hours when training on a GPU.\n",
        "Therefore it is often useful to be able to load pre-trained weights into the network.\n",
        "Also, saving a model that has been trained for hours can often save a lot of time.\n",
        "In pytorch this is possible through what is called\n",
        "[`state_dict`s](https://pytorch.org/tutorials/beginner/saving_loading_models.html).\n",
        "Saving the parameters of a pytorch module can be done with `torch.save(module.state_dict(), path)`,\n",
        "whereas loading saved parameters is done with `module.load_state_dict(torch.load(path))`.\n",
        "\n",
        " > Write a function `vgg_init_` to initialise a `CifarVGG` network.\n",
        " > It should load the pre-trained weights for the **11-layer variant of VGG** from `torchvision.models.vgg`\n",
        " > to initialise the feature extractor of the model\n",
        " > and reasonably initialise the classifier using initialisation functions from `torch.nn.init`.\n",
        "\n",
        "**Hint:** you can use all of the functions available in `torchvision.models.vgg`."
      ]
    },
    {
      "cell_type": "code",
      "execution_count": 49,
      "metadata": {
        "deletable": false,
        "nbgrader": {
          "cell_type": "code",
          "checksum": "afc920e40ccd329d5a059d8bb888d1fb",
          "grade": false,
          "grade_id": "cell-3f81b88fa13d2110",
          "locked": false,
          "schema_version": 3,
          "solution": true,
          "task": false
        },
        "pycharm": {
          "name": "#%%\n"
        },
        "tags": [],
        "id": "00881GydO0pv"
      },
      "outputs": [],
      "source": [
        "def vgg_init_(network: CifarVGG):\n",
        "    \"\"\"\n",
        "    Initialise a CifarVGG network with a pre-trained VGG feature extractor.\n",
        "\n",
        "    Parameters\n",
        "    ----------\n",
        "    network : CifarVGG\n",
        "        The model to initialise.\n",
        "    \"\"\"\n",
        "    from torchvision.models import vgg\n",
        "    # YOUR CODE HERE\n",
        "    vgg_model = vgg.vgg11(pretrained = True)\n",
        "    model.features.load_state_dict(vgg_model.features.state_dict())\n",
        "\n",
        "    #initialize the params for the network\n",
        "    for module in network.modules():\n",
        "        if isinstance(module, nn.Conv2d):\n",
        "          nn.init.kaiming_normal_(module.weight, mode='fan_out', nonlinearity = 'relu')\n",
        "          if module.bias is not None:\n",
        "            nn.init.zeros_(module.bias)\n",
        "\n",
        ""
      ]
    },
    {
      "cell_type": "code",
      "execution_count": 50,
      "metadata": {
        "id": "7DIpeMpSO0pv",
        "colab": {
          "base_uri": "https://localhost:8080/",
          "height": 438
        },
        "outputId": "86b194aa-f654-49ad-9a07-e7834b11d958"
      },
      "outputs": [
        {
          "output_type": "stream",
          "name": "stderr",
          "text": [
            "/usr/local/lib/python3.11/dist-packages/torchvision/models/_utils.py:208: UserWarning: The parameter 'pretrained' is deprecated since 0.13 and may be removed in the future, please use 'weights' instead.\n",
            "  warnings.warn(\n",
            "/usr/local/lib/python3.11/dist-packages/torchvision/models/_utils.py:223: UserWarning: Arguments other than a weight enum or `None` for 'weights' are deprecated since 0.13 and may be removed in the future. The current behavior is equivalent to passing `weights=VGG11_Weights.IMAGENET1K_V1`. You can also use `weights=VGG11_Weights.DEFAULT` to get the most up-to-date weights.\n",
            "  warnings.warn(msg)\n",
            "Downloading: \"https://download.pytorch.org/models/vgg11-8a719046.pth\" to /root/.cache/torch/hub/checkpoints/vgg11-8a719046.pth\n",
            "100%|██████████| 507M/507M [00:07<00:00, 68.1MB/s]\n"
          ]
        },
        {
          "output_type": "error",
          "ename": "AttributeError",
          "evalue": "'SimpleModel' object has no attribute 'features'",
          "traceback": [
            "\u001b[0;31m---------------------------------------------------------------------------\u001b[0m",
            "\u001b[0;31mAttributeError\u001b[0m                            Traceback (most recent call last)",
            "\u001b[0;32m<ipython-input-50-500cdf8fdba2>\u001b[0m in \u001b[0;36m<cell line: 0>\u001b[0;34m()\u001b[0m\n\u001b[1;32m      2\u001b[0m \u001b[0mvgg11\u001b[0m \u001b[0;34m=\u001b[0m \u001b[0mtorchvision\u001b[0m\u001b[0;34m.\u001b[0m\u001b[0mmodels\u001b[0m\u001b[0;34m.\u001b[0m\u001b[0mvgg11\u001b[0m\u001b[0;34m(\u001b[0m\u001b[0;34m)\u001b[0m\u001b[0;34m\u001b[0m\u001b[0;34m\u001b[0m\u001b[0m\n\u001b[1;32m      3\u001b[0m \u001b[0mnetwork\u001b[0m \u001b[0;34m=\u001b[0m \u001b[0mCifarVGG\u001b[0m\u001b[0;34m(\u001b[0m\u001b[0mvgg11\u001b[0m\u001b[0;34m.\u001b[0m\u001b[0mfeatures\u001b[0m\u001b[0;34m,\u001b[0m \u001b[0mnum_classes\u001b[0m\u001b[0;34m=\u001b[0m\u001b[0;36m10\u001b[0m\u001b[0;34m)\u001b[0m\u001b[0;34m\u001b[0m\u001b[0;34m\u001b[0m\u001b[0m\n\u001b[0;32m----> 4\u001b[0;31m \u001b[0mvgg_init_\u001b[0m\u001b[0;34m(\u001b[0m\u001b[0mnetwork\u001b[0m\u001b[0;34m)\u001b[0m\u001b[0;34m\u001b[0m\u001b[0;34m\u001b[0m\u001b[0m\n\u001b[0m",
            "\u001b[0;32m<ipython-input-49-fc0d645f9999>\u001b[0m in \u001b[0;36mvgg_init_\u001b[0;34m(network)\u001b[0m\n\u001b[1;32m     11\u001b[0m     \u001b[0;31m# YOUR CODE HERE\u001b[0m\u001b[0;34m\u001b[0m\u001b[0;34m\u001b[0m\u001b[0m\n\u001b[1;32m     12\u001b[0m     \u001b[0mvgg_model\u001b[0m \u001b[0;34m=\u001b[0m \u001b[0mvgg\u001b[0m\u001b[0;34m.\u001b[0m\u001b[0mvgg11\u001b[0m\u001b[0;34m(\u001b[0m\u001b[0mpretrained\u001b[0m \u001b[0;34m=\u001b[0m \u001b[0;32mTrue\u001b[0m\u001b[0;34m)\u001b[0m\u001b[0;34m\u001b[0m\u001b[0;34m\u001b[0m\u001b[0m\n\u001b[0;32m---> 13\u001b[0;31m     \u001b[0mmodel\u001b[0m\u001b[0;34m.\u001b[0m\u001b[0mfeatures\u001b[0m\u001b[0;34m.\u001b[0m\u001b[0mload_state_dict\u001b[0m\u001b[0;34m(\u001b[0m\u001b[0mvgg_model\u001b[0m\u001b[0;34m.\u001b[0m\u001b[0mfeatures\u001b[0m\u001b[0;34m.\u001b[0m\u001b[0mstate_dict\u001b[0m\u001b[0;34m(\u001b[0m\u001b[0;34m)\u001b[0m\u001b[0;34m)\u001b[0m\u001b[0;34m\u001b[0m\u001b[0;34m\u001b[0m\u001b[0m\n\u001b[0m\u001b[1;32m     14\u001b[0m \u001b[0;34m\u001b[0m\u001b[0m\n\u001b[1;32m     15\u001b[0m     \u001b[0;31m#initialize the params for the network\u001b[0m\u001b[0;34m\u001b[0m\u001b[0;34m\u001b[0m\u001b[0m\n",
            "\u001b[0;32m/usr/local/lib/python3.11/dist-packages/torch/nn/modules/module.py\u001b[0m in \u001b[0;36m__getattr__\u001b[0;34m(self, name)\u001b[0m\n\u001b[1;32m   1929\u001b[0m             \u001b[0;32mif\u001b[0m \u001b[0mname\u001b[0m \u001b[0;32min\u001b[0m \u001b[0mmodules\u001b[0m\u001b[0;34m:\u001b[0m\u001b[0;34m\u001b[0m\u001b[0;34m\u001b[0m\u001b[0m\n\u001b[1;32m   1930\u001b[0m                 \u001b[0;32mreturn\u001b[0m \u001b[0mmodules\u001b[0m\u001b[0;34m[\u001b[0m\u001b[0mname\u001b[0m\u001b[0;34m]\u001b[0m\u001b[0;34m\u001b[0m\u001b[0;34m\u001b[0m\u001b[0m\n\u001b[0;32m-> 1931\u001b[0;31m         raise AttributeError(\n\u001b[0m\u001b[1;32m   1932\u001b[0m             \u001b[0;34mf\"'{type(self).__name__}' object has no attribute '{name}'\"\u001b[0m\u001b[0;34m\u001b[0m\u001b[0;34m\u001b[0m\u001b[0m\n\u001b[1;32m   1933\u001b[0m         )\n",
            "\u001b[0;31mAttributeError\u001b[0m: 'SimpleModel' object has no attribute 'features'"
          ]
        }
      ],
      "source": [
        "# sanity check\n",
        "vgg11 = torchvision.models.vgg11()\n",
        "network = CifarVGG(vgg11.features, num_classes=10)\n",
        "vgg_init_(network)"
      ]
    },
    {
      "cell_type": "code",
      "execution_count": null,
      "metadata": {
        "deletable": false,
        "editable": false,
        "nbgrader": {
          "cell_type": "code",
          "checksum": "f56ff2dcb5f7d13605fc412af50a7c54",
          "grade": true,
          "grade_id": "cell-fa879703d117285d",
          "locked": true,
          "points": 0.5,
          "schema_version": 3,
          "solution": false,
          "task": false
        },
        "tags": [],
        "id": "d1hKtTnnO0pv"
      },
      "outputs": [],
      "source": [
        "# Test Cell: do not edit or delete!"
      ]
    },
    {
      "cell_type": "code",
      "execution_count": null,
      "metadata": {
        "deletable": false,
        "editable": false,
        "nbgrader": {
          "cell_type": "code",
          "checksum": "ce0812b910f059f082b7d9e3af582aff",
          "grade": true,
          "grade_id": "cell-9c50af0b59b8a087",
          "locked": true,
          "points": 0.5,
          "schema_version": 3,
          "solution": false,
          "task": false
        },
        "tags": [],
        "id": "Qqo3tUYYO0pw"
      },
      "outputs": [],
      "source": [
        "# Test Cell: do not edit or delete!"
      ]
    },
    {
      "cell_type": "code",
      "execution_count": null,
      "metadata": {
        "deletable": false,
        "editable": false,
        "nbgrader": {
          "cell_type": "code",
          "checksum": "0a9ec2b82e5d48f1e2a48532b658a3d2",
          "grade": true,
          "grade_id": "cell-b68148f3f01652e8",
          "locked": true,
          "points": 0.5,
          "schema_version": 3,
          "solution": false,
          "task": false
        },
        "tags": [],
        "id": "Q5NyL_wQO0pw"
      },
      "outputs": [],
      "source": [
        "# Test Cell: do not edit or delete!"
      ]
    },
    {
      "cell_type": "code",
      "execution_count": null,
      "metadata": {
        "deletable": false,
        "editable": false,
        "nbgrader": {
          "cell_type": "code",
          "checksum": "0a5583e9b43acd58346773a3274f0ec0",
          "grade": true,
          "grade_id": "cell-4b3c293bbf38506e",
          "locked": true,
          "points": 0.5,
          "schema_version": 3,
          "solution": false,
          "task": false
        },
        "tags": [],
        "id": "i6kLi4pOO0px"
      },
      "outputs": [],
      "source": [
        "# Test Cell: do not edit or delete!"
      ]
    },
    {
      "cell_type": "markdown",
      "metadata": {
        "pycharm": {
          "name": "#%% md\n"
        },
        "id": "4QaA32coO0px"
      },
      "source": [
        "### Exercise 4: Training (part of) the Network (4 points)\n",
        "\n",
        "Obviously, a classifier for CIFAR 10 will be different from a classifier for Imagenet.\n",
        "With the initialisation above, the `CifarVGG` has a ready-to-go feature extractor,\n",
        "but the classifier part still has to be trained.\n",
        "To do this training efficiently, there are a few things left to do.\n",
        "\n",
        " > The code below should train the entire network on the entire dataset for a few epochs.\n",
        " > Modify the code so that\n",
        " > 1. it only trains the classifier part of the network using SGD\n",
        " > and leaves the convolutional feature extractor untouched, i.e., *frozen*.\n",
        " > 2. the 32x32 CIFAR images are upscaled to 224x224 pixels.\n",
        " > 3. training is done on the GPU, which is generally faster.\n",
        " > 4. it uses a parallel dataloader to make sure that the GPU does not have to wait for data.\n",
        " > 5. only a random subset of 500 images from the CIFAR data is used for training.\n",
        " > 6. a random subset of 500 images from the CIFAR data is used as validation data.\n",
        " > You will also need to include a round of validation in the training loop.\n",
        " > This should give you some confidence that the classifier is learning something useful.\n",
        "\n",
        "**Hint:** you might find useful tools under\n",
        "[`torch.utils.data`](https://pytorch.org/docs/stable/data.html)."
      ]
    },
    {
      "cell_type": "code",
      "execution_count": null,
      "metadata": {
        "deletable": false,
        "nbgrader": {
          "cell_type": "code",
          "checksum": "c7d9b8ac7c6f5b1492e2a78701d65852",
          "grade": false,
          "grade_id": "cell-a950b67112844019",
          "locked": false,
          "schema_version": 3,
          "solution": true,
          "task": false
        },
        "tags": [],
        "id": "ZSwRCKqhO0py"
      },
      "outputs": [],
      "source": [
        "def get_cifar10(root: str, batch_size: int = 32, resize: tuple[int, int] = (224, 224),\n",
        "                num_train: int = 500, num_valid: int = 500, num_workers: int = 4):\n",
        "    \"\"\"\n",
        "    Get dataloader(s) for CIFAR-10.\n",
        "\n",
        "    Parameters\n",
        "    ----------\n",
        "    root : str\n",
        "        Path to directory where CIFAR-10 dataset is stored.\n",
        "    batch_size : int, optional\n",
        "        The number of samples per mini-batch.\n",
        "    resize : tuple of int, optional\n",
        "        Desired width and height of loaded images.\n",
        "    num_train : int, optional\n",
        "        Number of (random) samples to use for training.\n",
        "    num_valid : int, optional\n",
        "        Number of (random) samples to use for validation.\n",
        "    num_workers : int, optional\n",
        "        Number of parallel processes to use for loading data.\n",
        "\n",
        "    Returns\n",
        "    -------\n",
        "    train_batches : DataLoader\n",
        "        A dataloader that loads mini-batches of CIFAR-10 for training.\n",
        "    valid_batches : DataLoader\n",
        "        A dataloader that loads (mini-)batches of CIFAR-10 for validation.\n",
        "    \"\"\"\n",
        "    normalise=torchvision.transforms.Compose([\n",
        "        torchvision.transforms.ToTensor(),\n",
        "        torchvision.transforms.Normalize((0.4914, 0.4822, 0.4465), (0.247, 0.243, 0.261))\n",
        "    ])\n",
        "    cifar10 = torchvision.datasets.CIFAR10(root, transform=normalise, download=True)\n",
        "    train_batches = DataLoader(cifar10, batch_size=batch_size)\n",
        "    # YOUR CODE HERE\n",
        "    raise NotImplementedError()\n",
        "    return train_batches, None"
      ]
    },
    {
      "cell_type": "code",
      "execution_count": null,
      "metadata": {
        "deletable": false,
        "editable": false,
        "nbgrader": {
          "cell_type": "code",
          "checksum": "fe0750552b41c1d939730be454011c6b",
          "grade": true,
          "grade_id": "cell-50a57b988de2456a",
          "locked": true,
          "points": 1,
          "schema_version": 3,
          "solution": false,
          "task": false
        },
        "tags": [],
        "id": "Ki3c0oM1O0pz"
      },
      "outputs": [],
      "source": [
        "# Test Cell: do not edit or delete!\n",
        "train_batches, valid_batches = get_cifar10(data_root)"
      ]
    },
    {
      "cell_type": "code",
      "execution_count": null,
      "metadata": {
        "deletable": false,
        "editable": false,
        "nbgrader": {
          "cell_type": "code",
          "checksum": "1e18a491116f79690e6a043788e21cc5",
          "grade": true,
          "grade_id": "cell-6eda307d38b80b9b",
          "locked": true,
          "points": 0.5,
          "schema_version": 3,
          "solution": false,
          "task": false
        },
        "tags": [],
        "id": "n7qC6Hf9O0pz"
      },
      "outputs": [],
      "source": [
        "# Test Cell: do not edit or delete!"
      ]
    },
    {
      "cell_type": "code",
      "execution_count": null,
      "metadata": {
        "deletable": false,
        "editable": false,
        "nbgrader": {
          "cell_type": "code",
          "checksum": "13d6fa98d1965a611e71cf8ad5407ae9",
          "grade": true,
          "grade_id": "cell-c0a34d1d729057c3",
          "locked": true,
          "points": 0.5,
          "schema_version": 3,
          "solution": false,
          "task": false
        },
        "tags": [],
        "id": "WgSylvdYO0p0"
      },
      "outputs": [],
      "source": [
        "# Test Cell: do not edit or delete!"
      ]
    },
    {
      "cell_type": "code",
      "execution_count": null,
      "metadata": {
        "deletable": false,
        "editable": false,
        "nbgrader": {
          "cell_type": "code",
          "checksum": "4920006b846ee083072432a5f538ea52",
          "grade": true,
          "grade_id": "cell-3c0f52576cde2785",
          "locked": true,
          "points": 0.5,
          "schema_version": 3,
          "solution": false,
          "task": false
        },
        "tags": [],
        "id": "DcXDs2W-O0p0"
      },
      "outputs": [],
      "source": [
        "# Test Cell: do not edit or delete!"
      ]
    },
    {
      "cell_type": "code",
      "execution_count": null,
      "metadata": {
        "deletable": false,
        "nbgrader": {
          "cell_type": "code",
          "checksum": "318f2e3f3ac0446dd97fdcdf35117d4e",
          "grade": false,
          "grade_id": "cell-38ebe178995403c2",
          "locked": false,
          "schema_version": 3,
          "solution": true,
          "task": false
        },
        "tags": [],
        "id": "z5cfFAuDO0p1"
      },
      "outputs": [],
      "source": [
        "def get_vgg(num_classes: int = 10, device: str = \"cpu\"):\n",
        "    \"\"\"\n",
        "    Create and initialise VGG network on given device.\n",
        "\n",
        "    Parameters\n",
        "    ----------\n",
        "    num_classes : int, optional\n",
        "        The number of output units for the network.\n",
        "    device : str, optional\n",
        "        A string representing the device to work on\n",
        "    \"\"\"\n",
        "    vgg11 = torchvision.models.vgg11()\n",
        "    net = CifarVGG(vgg11.features, num_classes=10)\n",
        "    vgg_init_(net)\n",
        "    # YOUR CODE HERE\n",
        "    raise NotImplementedError()\n",
        "    return net"
      ]
    },
    {
      "cell_type": "code",
      "execution_count": null,
      "metadata": {
        "deletable": false,
        "editable": false,
        "nbgrader": {
          "cell_type": "code",
          "checksum": "cf747f572995d504cc9ecc86d6e7d314",
          "grade": true,
          "grade_id": "cell-54b052aa6ea81245",
          "locked": true,
          "points": 0.5,
          "schema_version": 3,
          "solution": false,
          "task": false
        },
        "tags": [],
        "id": "e7VmFOMtO0p2"
      },
      "outputs": [],
      "source": [
        "# Test Cell: do not edit or delete!\n",
        "network = get_vgg(device='cuda' if torch.cuda.is_available() else 'cpu')"
      ]
    },
    {
      "cell_type": "code",
      "execution_count": null,
      "metadata": {
        "deletable": false,
        "nbgrader": {
          "cell_type": "code",
          "checksum": "011d4681e4ffbc5d5ca7dfb8a0295e88",
          "grade": false,
          "grade_id": "cell-9744d03f06fc1e80",
          "locked": false,
          "schema_version": 3,
          "solution": true,
          "task": false
        },
        "tags": [],
        "id": "j95YGmUcO0p2"
      },
      "outputs": [],
      "source": [
        "class TransferTrainer:\n",
        "\n",
        "    def __init__(self, model: nn.Module):\n",
        "        \"\"\"\n",
        "        Create a trainer for transfer learning.\n",
        "\n",
        "        Parameters\n",
        "        ----------\n",
        "        model : nn.Module\n",
        "            The model to train.\n",
        "        \"\"\"\n",
        "        self.model = model\n",
        "        self.objective = nn.CrossEntropyLoss(reduction=\"sum\")\n",
        "        self.optimiser = None\n",
        "        # YOUR CODE HERE\n",
        "        raise NotImplementedError()\n",
        "\n",
        "    def train(self, train_batches: DataLoader, valid_batches: DataLoader,\n",
        "              num_epochs: int = 1):\n",
        "        \"\"\"\n",
        "        Train (part of) the network for a number of epochs.\n",
        "\n",
        "        Parameters\n",
        "        ----------\n",
        "        train_batches : DataLoader\n",
        "            The training data for updating the network.\n",
        "        valid_batches : DataLoader\n",
        "            The validation data for evaluating the network.\n",
        "        num_epochs : int, optional\n",
        "            The number of iterations over the training data.\n",
        "        \"\"\"\n",
        "        train_errs, valid_errs = [], []\n",
        "        for _ in trange(num_epochs):\n",
        "            local_errs = update(self.model, train_batches, self.objective, self.optimiser)\n",
        "            train_errs.append(sum(local_errs) / len(local_errs) / train_batches.batch_size)\n",
        "            # YOUR CODE HERE\n",
        "            raise NotImplementedError()\n",
        "\n",
        "        return train_errs, valid_errs\n"
      ]
    },
    {
      "cell_type": "code",
      "execution_count": null,
      "metadata": {
        "tags": [
          "skip-execution"
        ],
        "id": "9V22tmsPO0p3"
      },
      "outputs": [],
      "source": [
        "trainer = TransferTrainer(network)\n",
        "train_errs, valid_errs = trainer.train(train_batches, valid_batches, 20)"
      ]
    },
    {
      "cell_type": "code",
      "execution_count": null,
      "metadata": {
        "deletable": false,
        "editable": false,
        "nbgrader": {
          "cell_type": "code",
          "checksum": "cd7a0e7fb867ecdd95943d7e32f2d36d",
          "grade": true,
          "grade_id": "cell-d90bc7397e62537b",
          "locked": true,
          "points": 0.5,
          "schema_version": 3,
          "solution": false,
          "task": false
        },
        "tags": [],
        "id": "uyzls2xIO0p3"
      },
      "outputs": [],
      "source": [
        "# Test Cell: do not edit or delete!"
      ]
    },
    {
      "cell_type": "code",
      "execution_count": null,
      "metadata": {
        "deletable": false,
        "editable": false,
        "nbgrader": {
          "cell_type": "code",
          "checksum": "29921949adf9c0894a0abcaf32d218e4",
          "grade": true,
          "grade_id": "cell-2d58a4e446f6eeb6",
          "locked": true,
          "points": 0.5,
          "schema_version": 3,
          "solution": false,
          "task": false
        },
        "tags": [],
        "id": "H58GzioyO0p4"
      },
      "outputs": [],
      "source": [
        "# Test Cell: do not edit or delete!"
      ]
    },
    {
      "cell_type": "code",
      "execution_count": null,
      "metadata": {
        "id": "OW6A3fBGO0p4"
      },
      "outputs": [],
      "source": [
        "# plot learning curves\n",
        "from matplotlib import pyplot as plt\n",
        "plt.plot(range(1, len(train_errs) + 1), train_errs, label=\"train\")\n",
        "plt.plot(range(1, len(valid_errs) + 1), valid_errs, label=\"valid\")\n",
        "plt.legend()\n",
        "print(f\"ran on {next(network.parameters()).device}\")"
      ]
    },
    {
      "cell_type": "markdown",
      "metadata": {
        "pycharm": {
          "name": "#%% md\n"
        },
        "id": "Zg8Y3D-aO0p4"
      },
      "source": [
        "## Skip-connections\n",
        "\n",
        "One of the most popular modern network architectures for vision is the residual network.\n",
        "The main feature of this architecture is the so-called skip-connection,\n",
        "which allows to combine the activations with the original inputs in each layer.\n",
        "Since these skip-connections open up a gradient highway,\n",
        "they make it possible to train much deeper networks than is possible without the skip-connections.\n",
        "\n",
        "Mathematically, the simplest form of a skip connection can be written as\n",
        "$$\\boldsymbol{s} = \\boldsymbol{x} + f(\\boldsymbol{x}).$$\n",
        "In order for this to work, the dimensions of $\\boldsymbol{x}$ and $f(\\boldsymbol{x})$ must line up.\n",
        "This means that in this formulation, only square layers,\n",
        "i.e. layers with the same number of inputs and outputs, are possible.\n",
        "\n",
        "In order to use a skip-connection on layers that reduce the dimensionality,\n",
        "a linear transform on $\\boldsymbol{x}$ can be inserted in the equation.\n",
        "Since also other operations are possible, on both inputs and (pre-)activations,\n",
        "we can generalise the skip-connection formula to\n",
        "$$\\boldsymbol{s} = \\boldsymbol{C} \\cdot \\boldsymbol{x} + \\boldsymbol{T} \\cdot f(\\boldsymbol{x}),$$\n",
        "where $\\boldsymbol{C}$ and $\\boldsymbol{T}$ are linear transformations (a.k.a. matrices)."
      ]
    },
    {
      "cell_type": "markdown",
      "metadata": {
        "id": "gdmQbuRuO0p5"
      },
      "source": [
        "### Exercise 5: Pre-Residual Networks (4 points)\n",
        "\n",
        "The original and most commonly used residual networks actually do not implement skip connections as in the formula above.\n",
        "Upon closer inspection (e.g. `torchvision.models.resnet`), it becomes clear that the most famous skip-connection looks more like\n",
        "\n",
        "$$\\boldsymbol{a} = \\phi(\\boldsymbol{x} + f(\\boldsymbol{x})),$$\n",
        "\n",
        "where $\\phi$ is some non-linear activation function.\n",
        "This non-linearity typically interferes with the signal propagation of the network.\n",
        "As a result, gradients might still vanish despite the skip-connection.\n",
        "\n",
        "Pre-Residual Networks aim to counter this problem by moving skip-connections to the level of pre-activations, such that\n",
        "\n",
        "$$\\boldsymbol{a} = \\boldsymbol{x} + f(\\phi(\\boldsymbol{x})).$$\n",
        "\n",
        "This way, clean signal propagation can be guaranteed and learning should become easier.\n",
        "\n",
        " > Implement the `PreResBlock` class so that it can be used as a layer in a pre-residual network.\n",
        " > The residual part of the network, $f$, should be a small network with two convolutional layers.\n",
        " > Both layers should use the given `kernel_size` and preserve the image size if `stride` is one.\n",
        " > If `stride` is greater than one, the network should reduce the spatial dimensions by this factor.\n",
        " > Make sure that the network also works if `in_channels != out_channels` and `stride > 1`.\n",
        " > Try to avoid unnecessary parameters, especially for the skip-connection.\n",
        " > Precice information on the implementation of the `PreResBlock` can be found in this paper [Identity Mappings in Deep Residual Networks](https://arxiv.org/abs/1603.05027)"
      ]
    },
    {
      "cell_type": "code",
      "execution_count": null,
      "metadata": {
        "deletable": false,
        "nbgrader": {
          "cell_type": "code",
          "checksum": "ac8e641d2f59581656dea384274d4089",
          "grade": false,
          "grade_id": "cell-012fdda0f6fc954c",
          "locked": false,
          "schema_version": 3,
          "solution": true,
          "task": false
        },
        "tags": [],
        "id": "oiB1Pr_YO0p5"
      },
      "outputs": [],
      "source": [
        "class PreResBlock(nn.Module):\n",
        "    \"\"\" Residual block using skip-connections on pre-activation level. \"\"\"\n",
        "\n",
        "    def __init__(self, in_channels: int, out_channels: int, kernel_size: int = 3,\n",
        "                 stride: int = 1, phi: nn.Module = nn.ReLU(), extra_pars: bool = True):\n",
        "        \"\"\"\n",
        "        Parameters\n",
        "        ----------\n",
        "        in_channels : int\n",
        "            Number of input channels.\n",
        "        out_channels : int\n",
        "            Number of output channels.\n",
        "        kernel_size : int\n",
        "            Size of the kernel in all dimensions.\n",
        "        stride : int\n",
        "            Factor by which to reduce the spatial dimensions.\n",
        "        phi : nn.Module\n",
        "            The activation function to use in the residual branch.\n",
        "        \"\"\"\n",
        "        super().__init__()\n",
        "        # YOUR CODE HERE\n",
        "        raise NotImplementedError()"
      ]
    },
    {
      "cell_type": "code",
      "execution_count": null,
      "metadata": {
        "deletable": false,
        "editable": false,
        "nbgrader": {
          "cell_type": "code",
          "checksum": "c1262266d09ae05c7e69c639eaa6444e",
          "grade": true,
          "grade_id": "cell-6ad2bd0b1b1d2a9c",
          "locked": true,
          "points": 0.5,
          "schema_version": 3,
          "solution": false,
          "task": false
        },
        "tags": [],
        "id": "ugQ5WpyMO0p5"
      },
      "outputs": [],
      "source": [
        "# Test Cell: do not edit or delete!\n",
        "block = PreResBlock(8, 8)\n",
        "out = block(torch.zeros(1, 8, 32, 32))\n",
        "sum(par.numel() for par in block.parameters()), out.shape"
      ]
    },
    {
      "cell_type": "code",
      "execution_count": null,
      "metadata": {
        "deletable": false,
        "editable": false,
        "nbgrader": {
          "cell_type": "code",
          "checksum": "bc3cf926bc0e264cd47c32871c9459fc",
          "grade": true,
          "grade_id": "cell-f1f85167e93e44c3",
          "locked": true,
          "points": 0.5,
          "schema_version": 3,
          "solution": false,
          "task": false
        },
        "tags": [],
        "id": "YaoP0FpEO0p6"
      },
      "outputs": [],
      "source": [
        "# Test Cell: do not edit or delete!\n",
        "strided_block = PreResBlock(8, 8, stride=2)\n",
        "out = strided_block(torch.zeros(1, 8, 32, 32))\n",
        "sum(par.numel() for par in strided_block.parameters()), out.shape"
      ]
    },
    {
      "cell_type": "code",
      "execution_count": null,
      "metadata": {
        "deletable": false,
        "editable": false,
        "nbgrader": {
          "cell_type": "code",
          "checksum": "78b578fb34c5b7846fcb1f0c00f187a7",
          "grade": true,
          "grade_id": "cell-3ac75a0d02d17fd3",
          "locked": true,
          "points": 0.5,
          "schema_version": 3,
          "solution": false,
          "task": false
        },
        "tags": [],
        "id": "DRCOakUIO0p6"
      },
      "outputs": [],
      "source": [
        "# Test Cell: do not edit or delete!"
      ]
    },
    {
      "cell_type": "code",
      "execution_count": null,
      "metadata": {
        "deletable": false,
        "editable": false,
        "nbgrader": {
          "cell_type": "code",
          "checksum": "1ceed3d0a542f69db6c6b2860cddb14e",
          "grade": true,
          "grade_id": "cell-663c81b961940982",
          "locked": true,
          "points": 0.5,
          "schema_version": 3,
          "solution": false,
          "task": false
        },
        "tags": [],
        "id": "iBesBMZZO0p6"
      },
      "outputs": [],
      "source": [
        "# Test Cell: do not edit or delete!"
      ]
    },
    {
      "cell_type": "code",
      "execution_count": null,
      "metadata": {
        "deletable": false,
        "editable": false,
        "nbgrader": {
          "cell_type": "code",
          "checksum": "7c6e53e06430c37e13f80289415565da",
          "grade": true,
          "grade_id": "cell-59ae8844ab4b4070",
          "locked": true,
          "points": 0.5,
          "schema_version": 3,
          "solution": false,
          "task": false
        },
        "tags": [],
        "id": "pGESDcJkO0p6"
      },
      "outputs": [],
      "source": [
        "# Test Cell: do not edit or delete!"
      ]
    },
    {
      "cell_type": "code",
      "execution_count": null,
      "metadata": {
        "deletable": false,
        "editable": false,
        "nbgrader": {
          "cell_type": "code",
          "checksum": "ec2e33275158974903fce00c4bb90a95",
          "grade": true,
          "grade_id": "cell-167a0183735eef85",
          "locked": true,
          "points": 0.5,
          "schema_version": 3,
          "solution": false,
          "task": false
        },
        "tags": [],
        "id": "W4WSZ7HkO0p7"
      },
      "outputs": [],
      "source": [
        "# Test Cell: do not edit or delete!"
      ]
    },
    {
      "cell_type": "code",
      "execution_count": null,
      "metadata": {
        "deletable": false,
        "editable": false,
        "nbgrader": {
          "cell_type": "code",
          "checksum": "b1042058baed7c3c7d8a56497d3de570",
          "grade": true,
          "grade_id": "cell-710621dae0591506",
          "locked": true,
          "points": 0.5,
          "schema_version": 3,
          "solution": false,
          "task": false
        },
        "tags": [],
        "id": "tDXKr2IFO0p7"
      },
      "outputs": [],
      "source": [
        "# Test Cell: do not edit or delete!"
      ]
    },
    {
      "cell_type": "code",
      "execution_count": null,
      "metadata": {
        "deletable": false,
        "editable": false,
        "nbgrader": {
          "cell_type": "code",
          "checksum": "97b6fb54abbc54f70c235443eff1e317",
          "grade": true,
          "grade_id": "cell-57776f082e9e6e4a",
          "locked": true,
          "points": 0.5,
          "schema_version": 3,
          "solution": false,
          "task": false
        },
        "tags": [],
        "id": "SIK5zVuYO0p7"
      },
      "outputs": [],
      "source": [
        "# Test Cell: do not edit or delete!"
      ]
    },
    {
      "cell_type": "code",
      "execution_count": null,
      "metadata": {
        "deletable": false,
        "editable": false,
        "nbgrader": {
          "cell_type": "code",
          "checksum": "aeea2e9ef0bb2c47f167f975bdc7c3ef",
          "grade": true,
          "grade_id": "cell-54f1a5309ea73174",
          "locked": true,
          "points": 0,
          "schema_version": 3,
          "solution": false,
          "task": false
        },
        "tags": [],
        "id": "fBqtTNxnO0p8"
      },
      "outputs": [],
      "source": [
        "# Test Cell: do not edit or delete!"
      ]
    },
    {
      "cell_type": "code",
      "execution_count": null,
      "metadata": {
        "id": "SRTtCYKQO0p8"
      },
      "outputs": [],
      "source": []
    }
  ],
  "metadata": {
    "kernelspec": {
      "display_name": "Python 3",
      "name": "python3"
    },
    "language_info": {
      "codemirror_mode": {
        "name": "ipython",
        "version": 3
      },
      "file_extension": ".py",
      "mimetype": "text/x-python",
      "name": "python",
      "nbconvert_exporter": "python",
      "pygments_lexer": "ipython3",
      "version": "3.8.10"
    },
    "colab": {
      "provenance": [],
      "gpuType": "T4"
    },
    "accelerator": "GPU"
  },
  "nbformat": 4,
  "nbformat_minor": 0
}